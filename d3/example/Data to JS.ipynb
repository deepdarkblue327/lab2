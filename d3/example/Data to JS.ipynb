{
 "cells": [
  {
   "cell_type": "code",
   "execution_count": 3,
   "metadata": {
    "collapsed": true
   },
   "outputs": [],
   "source": [
    "import pandas as pd"
   ]
  },
  {
   "cell_type": "code",
   "execution_count": 4,
   "metadata": {
    "collapsed": true
   },
   "outputs": [],
   "source": [
    "NO_OF_WORDS = 1000"
   ]
  },
  {
   "cell_type": "code",
   "execution_count": 44,
   "metadata": {},
   "outputs": [],
   "source": [
    "f = open(\"unigram\")\n",
    "amazing = f.readlines()\n",
    "df = pd.DataFrame([[\" \".join(i.split()[:1]),i.split()[-1]] for i in amazing]).sort_values(1,ascending=False)[1:]\n",
    "a  = [\"\\t\".join(list(j)) for i,j in df.reset_index(drop=True).iterrows()]\n",
    "writer = [\"var words = [\\n\"]+[\"{text:'\"+\" \".join(i.split()[:2])+\"', size: \"+i.split()[-1]+\"},\\n\" for i in a][:NO_OF_WORDS] + [\"];\"]\n",
    "with open(\"example.one.js\",\"w\") as f:\n",
    "    f.writelines(writer)"
   ]
  },
  {
   "cell_type": "code",
   "execution_count": 47,
   "metadata": {
    "collapsed": true
   },
   "outputs": [],
   "source": [
    "top10 = list(df.reset_index(drop=True)[:10][0])"
   ]
  },
  {
   "cell_type": "code",
   "execution_count": 48,
   "metadata": {
    "collapsed": true
   },
   "outputs": [],
   "source": [
    "f = open(\"bigram\")\n",
    "amazing = f.readlines()\n",
    "amazing2 = [i for i in amazing if (i.split()[0] in top10) or (i.split()[1] in top10)]\n",
    "df = pd.DataFrame([[\" \".join(i.split()[:2]),i.split()[-1]] for i in amazing2]).sort_values(1,ascending=False)\n",
    "a  =[\"\\t\".join(list(j)) for i,j in df.reset_index(drop=True).iterrows()]\n",
    "writer = [\"var words = [\\n\"]+[\"{text:'\"+\" \".join(i.split()[:2])+\"', size: \"+i.split()[-1]+\"},\\n\" for i in a][:NO_OF_WORDS] + [\"];\"]\n",
    "with open(\"example.two.js\",\"w\") as f:\n",
    "    f.writelines(writer)"
   ]
  },
  {
   "cell_type": "code",
   "execution_count": null,
   "metadata": {
    "collapsed": true
   },
   "outputs": [],
   "source": []
  },
  {
   "cell_type": "code",
   "execution_count": null,
   "metadata": {
    "collapsed": true
   },
   "outputs": [],
   "source": []
  },
  {
   "cell_type": "code",
   "execution_count": null,
   "metadata": {
    "collapsed": true
   },
   "outputs": [],
   "source": []
  },
  {
   "cell_type": "code",
   "execution_count": null,
   "metadata": {
    "collapsed": true
   },
   "outputs": [],
   "source": []
  },
  {
   "cell_type": "code",
   "execution_count": null,
   "metadata": {
    "collapsed": true
   },
   "outputs": [],
   "source": []
  }
 ],
 "metadata": {
  "kernelspec": {
   "display_name": "Python 2",
   "language": "python",
   "name": "python2"
  },
  "language_info": {
   "codemirror_mode": {
    "name": "ipython",
    "version": 2
   },
   "file_extension": ".py",
   "mimetype": "text/x-python",
   "name": "python",
   "nbconvert_exporter": "python",
   "pygments_lexer": "ipython2",
   "version": "2.7.13"
  }
 },
 "nbformat": 4,
 "nbformat_minor": 2
}
