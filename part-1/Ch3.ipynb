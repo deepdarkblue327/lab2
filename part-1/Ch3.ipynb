{
 "cells": [
  {
   "cell_type": "code",
   "execution_count": 1,
   "metadata": {},
   "outputs": [
    {
     "name": "stdout",
     "output_type": "stream",
     "text": [
      "hello world\n"
     ]
    }
   ],
   "source": [
    " print(\"hello world\")"
   ]
  },
  {
   "cell_type": "code",
   "execution_count": 2,
   "metadata": {},
   "outputs": [
    {
     "name": "stdout",
     "output_type": "stream",
     "text": [
      "Susan now lives inWashington\n",
      "and makes $105000.0\n",
      "Ellen now lives inTexas\n",
      "and makes $78750.0\n"
     ]
    }
   ],
   "source": [
    "SALARY_RAISE_FACTOR = 0.05\n",
    "STATE_CODE_MAP = {'WA': 'Washington', 'TX': 'Texas'} \n",
    "def update_employee_record(rec):    \n",
    "    old_sal = rec['salary']    \n",
    "    new_sal = old_sal * (1 + SALARY_RAISE_FACTOR)    \n",
    "    rec['salary'] = new_sal    \n",
    "    state_code = rec['state_code']    \n",
    "    rec['state_name'] = STATE_CODE_MAP[state_code] \n",
    "input_data = [    {'employee_name': 'Susan', 'salary': 100000.0,     'state_code': 'WA'},    {'employee_name': 'Ellen', 'salary': 75000.0,     'state_code': 'TX'}, ] \n",
    "for rec in input_data:    \n",
    "    update_employee_record(rec)    \n",
    "    name = rec['employee_name']   \n",
    "    salary = rec['salary']    \n",
    "    state = rec['state_name']    \n",
    "    print (name +  \" now lives in\"  + state)\n",
    "    print (\"and makes $\" + str(salary))\n"
   ]
  },
  {
   "cell_type": "code",
   "execution_count": 3,
   "metadata": {
    "collapsed": true
   },
   "outputs": [],
   "source": [
    "#Declaring datatypes\n",
    "my_integer = 2 \n",
    "my_other_integer = 2 + 3 \n",
    "my_float = 2.0\n",
    "my_true_bool = True \n",
    "my_false_bool = False \n",
    "this_is_true = (0 < 100) \n",
    "this_is_false = (0 > 100)"
   ]
  },
  {
   "cell_type": "code",
   "execution_count": 4,
   "metadata": {
    "collapsed": true
   },
   "outputs": [],
   "source": [
    "#Declaring Strings\n",
    "a_string = \"hello\" \n",
    "same_as_previous = 'hello' \n",
    "an_empty_string = \"\" \n",
    "w_a_single_quote = \"hello's\"\n",
    "multi_line_string = \"\"\"line 1 \n",
    "line 2\"\"\""
   ]
  },
  {
   "cell_type": "code",
   "execution_count": 5,
   "metadata": {},
   "outputs": [
    {
     "data": {
      "text/plain": [
       "'A'"
      ]
     },
     "execution_count": 5,
     "metadata": {},
     "output_type": "execute_result"
    }
   ],
   "source": [
    "\"ABCD\"[0] \n"
   ]
  },
  {
   "cell_type": "code",
   "execution_count": 6,
   "metadata": {},
   "outputs": [
    {
     "data": {
      "text/plain": [
       "'AB'"
      ]
     },
     "execution_count": 6,
     "metadata": {},
     "output_type": "execute_result"
    }
   ],
   "source": [
    "\"ABCD\"[0:2] \n"
   ]
  },
  {
   "cell_type": "code",
   "execution_count": 7,
   "metadata": {},
   "outputs": [
    {
     "data": {
      "text/plain": [
       "'BC'"
      ]
     },
     "execution_count": 7,
     "metadata": {},
     "output_type": "execute_result"
    }
   ],
   "source": [
    "\"ABCD\"[1:3] "
   ]
  },
  {
   "cell_type": "code",
   "execution_count": 8,
   "metadata": {
    "collapsed": true
   },
   "outputs": [],
   "source": [
    "def sqr(x):    \n",
    "    \"This function just squares its input \"    \n",
    "    return x * x\n"
   ]
  },
  {
   "cell_type": "code",
   "execution_count": 9,
   "metadata": {},
   "outputs": [
    {
     "data": {
      "text/plain": [
       "64"
      ]
     },
     "execution_count": 9,
     "metadata": {},
     "output_type": "execute_result"
    }
   ],
   "source": [
    "sqr(8)"
   ]
  },
  {
   "cell_type": "code",
   "execution_count": 10,
   "metadata": {
    "collapsed": true
   },
   "outputs": [],
   "source": [
    "my_list = [\"a \", \"b \", \"c \"] \n",
    "my_set = set(my_list) \n",
    "my_tuple = tuple(my_list) "
   ]
  },
  {
   "cell_type": "code",
   "execution_count": 11,
   "metadata": {},
   "outputs": [
    {
     "name": "stdout",
     "output_type": "stream",
     "text": [
      "a \n"
     ]
    }
   ],
   "source": [
    "my_list = [\"a \", \"b \", \"c \"] \n",
    "print (my_list[0])  # prints \"a \" \n",
    "my_list[0] = \"A \"  # changes that element of the list \n",
    "my_list.append(\"d \")  # adds new element to the end\n",
    "# List elements can be ANYTHING \n",
    "mixed_list = [\"A \", 5.7, \"B \", [1,2,3]] "
   ]
  },
  {
   "cell_type": "code",
   "execution_count": 12,
   "metadata": {
    "collapsed": true
   },
   "outputs": [],
   "source": [
    "original_list = [1,2,3,4,5,6,7,8] \n",
    "squares = [x*x for x in original_list] \n",
    "squares_of_evens = [x*x for x in original_list]\n",
    "\n"
   ]
  },
  {
   "cell_type": "code",
   "execution_count": 13,
   "metadata": {
    "collapsed": true
   },
   "outputs": [],
   "source": [
    "my_list = [\"a\", \"b\", \"c\"] \n",
    "first_two_elements = my_list[0:3] \n",
    "my_list = [\"a\", \"b\", \"c\"] \n",
    "first_two_elements = my_list[:3] \n",
    "last_two_elements = my_list[1:] \n",
    "my_list = [\"a\", \"b\", \"c\"]\n",
    "all_but_last_element = my_list[:-1]"
   ]
  },
  {
   "cell_type": "code",
   "execution_count": 14,
   "metadata": {},
   "outputs": [
    {
     "name": "stdout",
     "output_type": "stream",
     "text": [
      "1\n"
     ]
    }
   ],
   "source": [
    "my_dict = {\"January\": 1, \"February\":2} \n",
    "print (my_dict[\"January\"])  # prints 1 \n",
    "my_dict[\"March\"] = 3  # add new element \n",
    "my_dict[\"January\"] = \"Start of the year\"  # overwrite old value "
   ]
  },
  {
   "cell_type": "code",
   "execution_count": 15,
   "metadata": {},
   "outputs": [
    {
     "data": {
      "text/plain": [
       "25"
      ]
     },
     "execution_count": 15,
     "metadata": {},
     "output_type": "execute_result"
    }
   ],
   "source": [
    "def my_function(x): \n",
    "    y = x+1\n",
    "    x_sqrd = x*x \n",
    "    return x_sqrd \n",
    "five_plus_one_sqrd = my_function(5) \n",
    "five_plus_one_sqrd"
   ]
  },
  {
   "cell_type": "code",
   "execution_count": 16,
   "metadata": {
    "collapsed": true
   },
   "outputs": [],
   "source": [
    "def raised(x, n=2): \n",
    "    return pow(x,n)\n",
    "\n",
    "two_sqrd = raised(2) \n",
    "two_cubed = raised(2, n=3)\n"
   ]
  },
  {
   "cell_type": "code",
   "execution_count": 17,
   "metadata": {
    "collapsed": true
   },
   "outputs": [],
   "source": [
    "def apply_to_evens(a_list, a_func): \n",
    "    return [a_func(x) for x in a_list if x%2==0] \n",
    "my_list = [1,2,3,4,5] \n",
    "sqrs_of_evens = apply_to_evens(my_list, lambda x:x*x)\n"
   ]
  },
  {
   "cell_type": "code",
   "execution_count": 18,
   "metadata": {},
   "outputs": [
    {
     "name": "stdout",
     "output_type": "stream",
     "text": [
      "('the number is ', 1)\n",
      "('the number is ', 2)\n",
      "('the number is ', 3)\n"
     ]
    }
   ],
   "source": [
    "my_list = [1, 2, 3] \n",
    "for x in my_list: \n",
    "    print (\"the number is \", x)\n"
   ]
  },
  {
   "cell_type": "code",
   "execution_count": 19,
   "metadata": {},
   "outputs": [
    {
     "name": "stdout",
     "output_type": "stream",
     "text": [
      "i is less than three\n"
     ]
    }
   ],
   "source": [
    "i = 0;\n",
    "if i < 3: \n",
    "    print (\"i is less than three\") \n",
    "elif i < 5: \n",
    "    print (\"i is between 3 and 5\" )\n",
    "else: \n",
    "    print (\"i is greater than 5\")"
   ]
  },
  {
   "cell_type": "code",
   "execution_count": 21,
   "metadata": {},
   "outputs": [
    {
     "name": "stdout",
     "output_type": "stream",
     "text": [
      "bark bark!!\n"
     ]
    }
   ],
   "source": [
    "class Dog: \n",
    "    def __init__(self, name):  \n",
    "        self.name = name \n",
    "    def respond_to_command(self, command):  \n",
    "        if command == self.name: self.speak() \n",
    "    def speak(self):  \n",
    "        print (\"bark bark!!\") \n",
    "fido = Dog(\"fido\") \n",
    "fido.respond_to_command(\"spot\")  # does nothing \n",
    "fido.respond_to_command(\"fido\")  # prints bark bark"
   ]
  },
  {
   "cell_type": "code",
   "execution_count": 25,
   "metadata": {},
   "outputs": [],
   "source": [
    "import pandas as pd # Making data frame from a dictionary # that maps column names to their values \n",
    "df = pd.DataFrame({ \"name\": [\"Bob\", \"Alex\", \"Janice\"], \"age\": [60, 25, 33] }) # Reading a DataFrame from a file \n",
    "#other_df = pd.read_csv(\"myfile.csv\")\n",
    "# Making new columns from old ones # is really easy \n",
    "df[\"age_plus_one\"] = df[\"age\"] + 1 \n",
    "df[\"age_times_two\"] = 2 * df[\"age\"] \n",
    "df[\"age_squared\"] = df[\"age\"] * df[\"age\"] \n",
    "df[\"over_30\"] = (df[\"age\"] > 30)  # this col is bools\n",
    "total_age = df[\"age\"].sum() \n",
    "median_age = df[\"age\"].quantile(0.5) # You can select several rows of the DataFrame # and make a new DataFrame out of them \n",
    "df_below50 = df[df[\"age\"] < 50] # Apply a custom function to a column \n",
    "df[\"age_squared\"] = df[\"age\"].apply(lambda x: x*x)"
   ]
  },
  {
   "cell_type": "code",
   "execution_count": null,
   "metadata": {
    "collapsed": true
   },
   "outputs": [],
   "source": []
  }
 ],
 "metadata": {
  "kernelspec": {
   "display_name": "Python 2",
   "language": "python",
   "name": "python2"
  },
  "language_info": {
   "codemirror_mode": {
    "name": "ipython",
    "version": 2
   },
   "file_extension": ".py",
   "mimetype": "text/x-python",
   "name": "python",
   "nbconvert_exporter": "python",
   "pygments_lexer": "ipython2",
   "version": "2.7.13"
  }
 },
 "nbformat": 4,
 "nbformat_minor": 2
}
